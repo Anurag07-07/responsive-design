{
 "cells": [
  {
   "cell_type": "code",
   "execution_count": 3,
   "id": "74d58402-d1c5-4dc6-84cd-e08b82551778",
   "metadata": {},
   "outputs": [
    {
     "name": "stdout",
     "output_type": "stream",
     "text": [
      "Hello World\n"
     ]
    }
   ],
   "source": [
    "print(\"Hello World\");"
   ]
  },
  {
   "cell_type": "code",
   "execution_count": 4,
   "id": "5713298a-11ab-4741-bfda-39c651f526b6",
   "metadata": {},
   "outputs": [
    {
     "name": "stdout",
     "output_type": "stream",
     "text": [
      "This is Basics of Python\n"
     ]
    }
   ],
   "source": [
    "print(\"This is Basics of Python\");"
   ]
  },
  {
   "cell_type": "code",
   "execution_count": 5,
   "id": "f20dceb6-88c2-4461-ace5-3ea70c3aac6e",
   "metadata": {},
   "outputs": [
    {
     "name": "stdout",
     "output_type": "stream",
     "text": [
      "Hello Python World\n"
     ]
    }
   ],
   "source": [
    "message = (\"Hello Python World\");\n",
    "print(message);"
   ]
  },
  {
   "cell_type": "code",
   "execution_count": 6,
   "id": "b418ec02-a223-41e7-9f30-6d9a2734759f",
   "metadata": {},
   "outputs": [
    {
     "name": "stdout",
     "output_type": "stream",
     "text": [
      "Hello Python World!\n",
      "Artificial Intelligence and Machine Learning\n"
     ]
    }
   ],
   "source": [
    "message = \"Hello Python World!\"\n",
    "print(message)\n",
    "\n",
    "message = \"Artificial Intelligence and Machine Learning\"\n",
    "print(message)"
   ]
  },
  {
   "cell_type": "code",
   "execution_count": 7,
   "id": "b576de7a-55ea-456a-8537-a4a85323a3a6",
   "metadata": {},
   "outputs": [
    {
     "ename": "NameError",
     "evalue": "name 'mesage' is not defined",
     "output_type": "error",
     "traceback": [
      "\u001b[1;31m---------------------------------------------------------------------------\u001b[0m",
      "\u001b[1;31mNameError\u001b[0m                                 Traceback (most recent call last)",
      "Cell \u001b[1;32mIn[7], line 2\u001b[0m\n\u001b[0;32m      1\u001b[0m message \u001b[38;5;241m=\u001b[39m \u001b[38;5;124m\"\u001b[39m\u001b[38;5;124mPython Programming\u001b[39m\u001b[38;5;124m\"\u001b[39m\n\u001b[1;32m----> 2\u001b[0m \u001b[38;5;28mprint\u001b[39m(mesage)\n",
      "\u001b[1;31mNameError\u001b[0m: name 'mesage' is not defined"
     ]
    }
   ],
   "source": [
    "message = \"Python Programming\"\n",
    "print(mesage)"
   ]
  },
  {
   "cell_type": "code",
   "execution_count": 8,
   "id": "72da3040-7980-446b-adeb-77819e459cc7",
   "metadata": {},
   "outputs": [
    {
     "name": "stdout",
     "output_type": "stream",
     "text": [
      "Python Programming\n"
     ]
    }
   ],
   "source": [
    "mesage = \"Python Programming\"\n",
    "print(mesage)"
   ]
  },
  {
   "cell_type": "code",
   "execution_count": 9,
   "id": "b1695daa-ad52-487a-ac21-661676d1f055",
   "metadata": {},
   "outputs": [
    {
     "name": "stdout",
     "output_type": "stream",
     "text": [
      "Hello Everyone\n"
     ]
    }
   ],
   "source": [
    "message = \"Hello Everyone\"\n",
    "print(message)"
   ]
  },
  {
   "cell_type": "code",
   "execution_count": 11,
   "id": "94e5ee84-a65c-4566-bd0b-ae1352339a3d",
   "metadata": {},
   "outputs": [
    {
     "name": "stdout",
     "output_type": "stream",
     "text": [
      "Learning Python\n",
      "Learning Python\n"
     ]
    }
   ],
   "source": [
    "message =\"Learning Python\"\n",
    "print(message)\n",
    "\n",
    "new_message = message\n",
    "print(new_message) "
   ]
  },
  {
   "cell_type": "code",
   "execution_count": 12,
   "id": "cd6c2241-5b6f-4b7e-a856-b1820ba01523",
   "metadata": {},
   "outputs": [
    {
     "name": "stdout",
     "output_type": "stream",
     "text": [
      "The language 'Python' is named after Monty Python,not the snake.\n"
     ]
    }
   ],
   "source": [
    "print(\"The language 'Python' is named after Monty Python,not the snake.\")"
   ]
  },
  {
   "cell_type": "code",
   "execution_count": 13,
   "id": "97505733-580c-49f5-aeac-dd6417561e4a",
   "metadata": {},
   "outputs": [
    {
     "name": "stdout",
     "output_type": "stream",
     "text": [
      "Anurag Raj\n"
     ]
    }
   ],
   "source": [
    "name = \"anurag raj\"\n",
    "print(name.title())"
   ]
  },
  {
   "cell_type": "code",
   "execution_count": 15,
   "id": "a22fcfb0-5d28-4cd4-9489-660e471f3080",
   "metadata": {},
   "outputs": [
    {
     "name": "stdout",
     "output_type": "stream",
     "text": [
      "Artificial Intelligence And Machine Learning\n",
      "ARTIFICIAL INTELLIGENCE AND MACHINE LEARNING\n"
     ]
    }
   ],
   "source": [
    "name = \"artificial intelligence and machine learning\"\n",
    "print(name.title())\n",
    "print(name.upper())"
   ]
  },
  {
   "cell_type": "code",
   "execution_count": 16,
   "id": "f7b350a0-f2c3-4624-ad6b-05b643809588",
   "metadata": {},
   "outputs": [
    {
     "name": "stdout",
     "output_type": "stream",
     "text": [
      "artificial intelligence and machine learning\n"
     ]
    }
   ],
   "source": [
    "name = \"ARTIFICIAL INTELLIGENCE AND MACHINE LEARNING\"\n",
    "print(name.lower())"
   ]
  },
  {
   "cell_type": "code",
   "execution_count": 17,
   "id": "d7f77802-fb6c-4a58-8472-b4e35c7da4e0",
   "metadata": {},
   "outputs": [
    {
     "name": "stdout",
     "output_type": "stream",
     "text": [
      "anurag raj\n"
     ]
    }
   ],
   "source": [
    "first_name = \"anurag\"\n",
    "last_name = \"raj\"\n",
    "full_name = first_name+\" \"+last_name\n",
    "print(full_name)"
   ]
  },
  {
   "cell_type": "code",
   "execution_count": 19,
   "id": "e0ed8c32-65fe-41d0-ba0f-a4b032606362",
   "metadata": {},
   "outputs": [
    {
     "name": "stdout",
     "output_type": "stream",
     "text": [
      "Branch Artificial Intelligence!\n"
     ]
    }
   ],
   "source": [
    "first_name = \"artificial\"\n",
    "last_name = \"intelligence\"\n",
    "full_name = first_name+\" \"+last_name\n",
    "print(\"Branch\"+\" \"+full_name.title()+\"!\")"
   ]
  },
  {
   "cell_type": "code",
   "execution_count": 20,
   "id": "1887dcff-c4d0-4376-beae-7a5797ba1e83",
   "metadata": {},
   "outputs": [
    {
     "name": "stdout",
     "output_type": "stream",
     "text": [
      "Branch ARTIFICIAL INTELLIGENCE!\n"
     ]
    }
   ],
   "source": [
    "first_name = \"artificial\"\n",
    "last_name = \"intelligence\"\n",
    "full_name = first_name+\" \"+last_name\n",
    "message  = \"Branch\"+\" \"+full_name.upper()+\"!\"\n",
    "print(message)"
   ]
  },
  {
   "cell_type": "code",
   "execution_count": 21,
   "id": "74f21672-6676-4b99-a0f2-b438617f1fd1",
   "metadata": {},
   "outputs": [
    {
     "name": "stdout",
     "output_type": "stream",
     "text": [
      "Languages:\n",
      "\tPython\n",
      "\tJavascript\n",
      "\tJava\n"
     ]
    }
   ],
   "source": [
    "print(\"Languages:\\n\\tPython\\n\\tJavascript\\n\\tJava\")"
   ]
  },
  {
   "cell_type": "code",
   "execution_count": 22,
   "id": "97c69477-ff23-4cc8-9bbc-3e575ade372d",
   "metadata": {},
   "outputs": [
    {
     "name": "stdout",
     "output_type": "stream",
     "text": [
      "     Java       \n"
     ]
    }
   ],
   "source": [
    "language = \"     Java       \"\n",
    "print(language)"
   ]
  },
  {
   "cell_type": "code",
   "execution_count": 23,
   "id": "13239f2a-4c1f-4b21-8d8c-bf961231f3cd",
   "metadata": {},
   "outputs": [
    {
     "name": "stdout",
     "output_type": "stream",
     "text": [
      "     Java       \n",
      "Java       \n",
      "     Java\n",
      "Java\n"
     ]
    }
   ],
   "source": [
    "language = \"     Java       \"\n",
    "print(language)\n",
    "print(language.lstrip())\n",
    "print(language.rstrip())\n",
    "print(language.strip())"
   ]
  },
  {
   "cell_type": "code",
   "execution_count": 25,
   "id": "481556e4-32e6-4497-bf81-3e9f43b07774",
   "metadata": {},
   "outputs": [
    {
     "name": "stdout",
     "output_type": "stream",
     "text": [
      "Hello Eric,would you like to learn some python todya?\n"
     ]
    }
   ],
   "source": [
    "name  = \"eric\"\n",
    "message  = \"Hello\"+\" \"+name.title()+\",would you like to learn some python todya?\"\n",
    "print(message)"
   ]
  },
  {
   "cell_type": "code",
   "execution_count": 35,
   "id": "3f796887-2f7c-44c7-acf7-abca8293da6d",
   "metadata": {},
   "outputs": [
    {
     "name": "stdout",
     "output_type": "stream",
     "text": [
      "Albert Einstein once said,\"A person who never made a\n",
      "\t mistake never tried anythinh new.\"\n"
     ]
    }
   ],
   "source": [
    "print('Albert Einstein once said,\"A person who never made a\\n\\t mistake never tried anythinh new.\"')"
   ]
  },
  {
   "cell_type": "code",
   "execution_count": 2,
   "id": "ef5f6e97-a244-48b8-a059-2fc575008b5d",
   "metadata": {},
   "outputs": [
    {
     "data": {
      "text/plain": [
       "9"
      ]
     },
     "execution_count": 2,
     "metadata": {},
     "output_type": "execute_result"
    }
   ],
   "source": [
    "2+3\n",
    "2-3\n",
    "2*3\n",
    "3/2\n",
    "3.0/2\n",
    "3**2"
   ]
  },
  {
   "cell_type": "code",
   "execution_count": 3,
   "id": "3b289555-73ec-4b87-84ec-3a2468391c97",
   "metadata": {},
   "outputs": [
    {
     "data": {
      "text/plain": [
       "5"
      ]
     },
     "execution_count": 3,
     "metadata": {},
     "output_type": "execute_result"
    }
   ],
   "source": [
    "2+3"
   ]
  },
  {
   "cell_type": "code",
   "execution_count": 4,
   "id": "57b6fca9-6342-44c4-b706-1ea03b4ddb95",
   "metadata": {},
   "outputs": [
    {
     "data": {
      "text/plain": [
       "-1"
      ]
     },
     "execution_count": 4,
     "metadata": {},
     "output_type": "execute_result"
    }
   ],
   "source": [
    "2-3"
   ]
  },
  {
   "cell_type": "code",
   "execution_count": 5,
   "id": "84aa744c-a2ba-4bc8-9080-e86e0fb364c5",
   "metadata": {},
   "outputs": [
    {
     "data": {
      "text/plain": [
       "6"
      ]
     },
     "execution_count": 5,
     "metadata": {},
     "output_type": "execute_result"
    }
   ],
   "source": [
    "2*3"
   ]
  },
  {
   "cell_type": "code",
   "execution_count": 6,
   "id": "02bb87d4-2fd0-4a36-81be-acf3f2827faa",
   "metadata": {},
   "outputs": [
    {
     "data": {
      "text/plain": [
       "16"
      ]
     },
     "execution_count": 6,
     "metadata": {},
     "output_type": "execute_result"
    }
   ],
   "source": [
    "2**4"
   ]
  },
  {
   "cell_type": "code",
   "execution_count": 7,
   "id": "ab5facd0-96a5-482b-8316-ab1fdd2362f0",
   "metadata": {},
   "outputs": [
    {
     "data": {
      "text/plain": [
       "1.5"
      ]
     },
     "execution_count": 7,
     "metadata": {},
     "output_type": "execute_result"
    }
   ],
   "source": [
    "3/2"
   ]
  },
  {
   "cell_type": "code",
   "execution_count": 8,
   "id": "a3090bb0-4220-4308-9e9b-07fb23d06e84",
   "metadata": {},
   "outputs": [
    {
     "data": {
      "text/plain": [
       "0.6666666666666666"
      ]
     },
     "execution_count": 8,
     "metadata": {},
     "output_type": "execute_result"
    }
   ],
   "source": [
    "2/3"
   ]
  },
  {
   "cell_type": "code",
   "execution_count": 9,
   "id": "88b24c99-b127-41f7-b530-8720213a82b8",
   "metadata": {},
   "outputs": [
    {
     "ename": "TypeError",
     "evalue": "can only concatenate str (not \"int\") to str",
     "output_type": "error",
     "traceback": [
      "\u001b[1;31m---------------------------------------------------------------------------\u001b[0m",
      "\u001b[1;31mTypeError\u001b[0m                                 Traceback (most recent call last)",
      "Cell \u001b[1;32mIn[9], line 2\u001b[0m\n\u001b[0;32m      1\u001b[0m age  \u001b[38;5;241m=\u001b[39m \u001b[38;5;241m23\u001b[39m\n\u001b[1;32m----> 2\u001b[0m message  \u001b[38;5;241m=\u001b[39m \u001b[38;5;124m\"\u001b[39m\u001b[38;5;124mHappy\u001b[39m\u001b[38;5;124m\"\u001b[39m\u001b[38;5;241m+\u001b[39m\u001b[38;5;124m\"\u001b[39m\u001b[38;5;124m \u001b[39m\u001b[38;5;124m\"\u001b[39m\u001b[38;5;241m+\u001b[39mage\u001b[38;5;241m+\u001b[39m\u001b[38;5;124m\"\u001b[39m\u001b[38;5;124mrd Birthday Dear\u001b[39m\u001b[38;5;124m\"\u001b[39m\n",
      "\u001b[1;31mTypeError\u001b[0m: can only concatenate str (not \"int\") to str"
     ]
    }
   ],
   "source": [
    "age  = 23\n",
    "message  = \"Happy\"+\" \"+age+\"rd Birthday Dear\" "
   ]
  },
  {
   "cell_type": "code",
   "execution_count": 13,
   "id": "42c2c78f-f1a1-4ba0-804d-af14fe29e2ab",
   "metadata": {},
   "outputs": [
    {
     "name": "stdout",
     "output_type": "stream",
     "text": [
      "Happy 23rd Birthday Dear\n"
     ]
    }
   ],
   "source": [
    "# str() is use to convert integer into string otherwise it can't be concatinated \n",
    "age  = 23\n",
    "message  = \"Happy\"+\" \"+str(age)+\"rd Birthday Dear\" \n",
    "print(message)"
   ]
  },
  {
   "cell_type": "code",
   "execution_count": 1,
   "id": "9d8522b4-b6eb-40c4-b7fb-b65ae305a78e",
   "metadata": {},
   "outputs": [
    {
     "name": "stdout",
     "output_type": "stream",
     "text": [
      "['trek', 'cannondale', 'redline', 'specialized']\n"
     ]
    }
   ],
   "source": [
    "bicycles = ['trek','cannondale','redline','specialized']\n",
    "print(bicycles)"
   ]
  },
  {
   "cell_type": "code",
   "execution_count": 3,
   "id": "2325963a-81a5-452b-ba23-00d6c12dbab3",
   "metadata": {},
   "outputs": [
    {
     "name": "stdout",
     "output_type": "stream",
     "text": [
      "trek\n",
      "cannondale\n",
      "redline\n"
     ]
    }
   ],
   "source": [
    "bicycles = ['trek','cannondale','redline','specialized']\n",
    "print(bicycles[0])\n",
    "print(bicycles[1])\n",
    "print(bicycles[2])"
   ]
  },
  {
   "cell_type": "code",
   "execution_count": 4,
   "id": "633a1fec-caf9-46dd-940d-d88440e88193",
   "metadata": {},
   "outputs": [
    {
     "name": "stdout",
     "output_type": "stream",
     "text": [
      "specialized\n"
     ]
    }
   ],
   "source": [
    "# -1 is used to get the last element of the list and same -2 return second last and -3 and so on\n",
    "\n",
    "bicycles = ['trek','cannondale','redline','specialized']\n",
    "print(bicycles[-1])"
   ]
  },
  {
   "cell_type": "code",
   "execution_count": 5,
   "id": "0beb9511-7613-4165-8d50-c7bd5b4f26ef",
   "metadata": {},
   "outputs": [
    {
     "name": "stdout",
     "output_type": "stream",
     "text": [
      "the first Bicycle is Trek.\n"
     ]
    }
   ],
   "source": [
    "bicycles = ['trek','cannondale','redline','specialized']\n",
    "message  = \"the first Bicycle is \"+ bicycles[0].title()+\".\"\n",
    "print(message)"
   ]
  },
  {
   "cell_type": "code",
   "execution_count": 9,
   "id": "ae08668f-6c79-49ed-954c-45b6f30f232f",
   "metadata": {},
   "outputs": [
    {
     "name": "stdout",
     "output_type": "stream",
     "text": [
      "Hello this is GEMINI for help\n",
      "Hello this is CHATGPT for help\n",
      "Hello this is BARD for help\n",
      "Hello this is CLAUDE for help\n"
     ]
    }
   ],
   "source": [
    "Ai = ['Gemini','Chatgpt','Bard','Claude']\n",
    "message = \"Hello this is \"+ Ai[0].upper() +\" for help\"\n",
    "message1 = \"Hello this is \"+ Ai[1].upper() +\" for help\"\n",
    "message2 = \"Hello this is \"+ Ai[2].upper() +\" for help\"\n",
    "message3 = \"Hello this is \"+ Ai[3].upper() +\" for help\"\n",
    "print(message)\n",
    "print(message1)\n",
    "print(message2)\n",
    "print(message3)"
   ]
  },
  {
   "cell_type": "code",
   "execution_count": 10,
   "id": "aec631c3-7092-48e1-bfcf-3daa6faf8656",
   "metadata": {},
   "outputs": [
    {
     "name": "stdout",
     "output_type": "stream",
     "text": [
      "['Lamborghini', 'buggati', 'Pagani']\n",
      "['Lamborghini', 'buggati', 'koeinsegg']\n"
     ]
    }
   ],
   "source": [
    "cars = ['Lamborghini','buggati','Pagani']\n",
    "print(cars)\n",
    "cars[2] = 'koeinsegg'\n",
    "print(cars)"
   ]
  },
  {
   "cell_type": "code",
   "execution_count": 13,
   "id": "cb4af410-579e-46d4-889e-fa867b6d7372",
   "metadata": {},
   "outputs": [
    {
     "name": "stdout",
     "output_type": "stream",
     "text": [
      "['lamborghini', 'buggati', 'koiensegg']\n"
     ]
    }
   ],
   "source": [
    "cars = []\n",
    "cars.append('lamborghini')\n",
    "cars.append('buggati')\n",
    "cars.append('koiensegg')\n",
    "print(cars)"
   ]
  },
  {
   "cell_type": "code",
   "execution_count": 14,
   "id": "893d0b4a-a305-45c5-9642-0c12da09a347",
   "metadata": {},
   "outputs": [
    {
     "name": "stdout",
     "output_type": "stream",
     "text": [
      "['Maclaren', 'Lamborghini', 'buggati', 'Pagani']\n"
     ]
    }
   ],
   "source": [
    "cars = ['Lamborghini','buggati','Pagani']\n",
    "cars.insert(0,'Maclaren')\n",
    "print(cars)"
   ]
  },
  {
   "cell_type": "code",
   "execution_count": 16,
   "id": "788f2d56-937a-4a4d-8ae1-4c87e3589fae",
   "metadata": {},
   "outputs": [
    {
     "name": "stdout",
     "output_type": "stream",
     "text": [
      "['Gemini', 'Chatgpt', 'Bard']\n",
      "Claude\n"
     ]
    }
   ],
   "source": [
    "Ai = ['Gemini','Chatgpt','Bard','Claude']\n",
    "popped_ai = Ai.pop();\n",
    "print(Ai)\n",
    "print(popped_ai)"
   ]
  },
  {
   "cell_type": "code",
   "execution_count": 17,
   "id": "c077e576-38ae-48ad-9c11-44f398e69e90",
   "metadata": {},
   "outputs": [
    {
     "name": "stdout",
     "output_type": "stream",
     "text": [
      "['Maclaren', 'Lamborghini', 'buggati', 'Pagani']\n",
      "Pagani\n",
      "the last car I buy is Pagani.\n"
     ]
    }
   ],
   "source": [
    "cars = ['Lamborghini','buggati','Pagani']\n",
    "cars.insert(0,'Maclaren')\n",
    "print(cars)\n",
    "buy_cars=cars.pop();\n",
    "print(buy_cars)\n",
    "message = \"the last car I buy is \" + buy_cars + \".\"\n",
    "print(message)"
   ]
  },
  {
   "cell_type": "code",
   "execution_count": 19,
   "id": "60b427da-84bb-4be6-8876-c00ecf07c2c7",
   "metadata": {},
   "outputs": [
    {
     "name": "stdout",
     "output_type": "stream",
     "text": [
      "['Maclaren', 'Lamborghini', 'buggati', 'Pagani']\n",
      "Lamborghini\n",
      "['Maclaren', 'buggati', 'Pagani']\n"
     ]
    }
   ],
   "source": [
    "cars = ['Lamborghini','buggati','Pagani']\n",
    "cars.insert(0,'Maclaren')\n",
    "print(cars)\n",
    "poped = cars.pop(1)\n",
    "print(poped.title())\n",
    "print(cars)"
   ]
  },
  {
   "cell_type": "code",
   "execution_count": 23,
   "id": "e1294db6-69e8-468e-b612-51d6c47e5e23",
   "metadata": {},
   "outputs": [
    {
     "name": "stdout",
     "output_type": "stream",
     "text": [
      "['honda', 'yamaha', 'suzuki']\n",
      "\n",
      "A Ducati is too expensive for me\n"
     ]
    }
   ],
   "source": [
    "bikes = ['honda','yamaha','suzuki','ducati']\n",
    "too_expensive = 'ducati'\n",
    "bikes.remove(too_expensive)\n",
    "print(bikes)\n",
    "print(\"\\nA \"+too_expensive.title()+\" is too expensive for me\") "
   ]
  },
  {
   "cell_type": "code",
   "execution_count": 1,
   "id": "d8ce9851-a5c9-4265-9e36-418492abfd5a",
   "metadata": {},
   "outputs": [
    {
     "name": "stdout",
     "output_type": "stream",
     "text": [
      "['audi', 'bmw', 'saburu', 'toyota']\n"
     ]
    }
   ],
   "source": [
    "#Soring a list\n",
    "cars = ['bmw','audi','toyota','saburu']\n",
    "cars.sort()\n",
    "print(cars);"
   ]
  },
  {
   "cell_type": "code",
   "execution_count": 2,
   "id": "ef6c45c1-5f65-4a26-9aea-4dbaba3be9ea",
   "metadata": {},
   "outputs": [
    {
     "name": "stdout",
     "output_type": "stream",
     "text": [
      "['toyota', 'saburu', 'bmw', 'audi']\n"
     ]
    }
   ],
   "source": [
    "#Soring a list in reverse order\n",
    "cars = ['bmw','audi','toyota','saburu']\n",
    "cars.sort(reverse = True)\n",
    "print(cars);"
   ]
  },
  {
   "cell_type": "code",
   "execution_count": 3,
   "id": "8cf57ad0-aadc-4780-b507-2f979cfd665c",
   "metadata": {},
   "outputs": [
    {
     "name": "stdout",
     "output_type": "stream",
     "text": [
      "Here is the Original list:\n",
      "['bmw', 'audi', 'toyota', 'saburu']\n",
      "\n",
      "Here is the sorted list:\n",
      "['audi', 'bmw', 'saburu', 'toyota']\n",
      "\n",
      "Here is the original list again:\n",
      "['bmw', 'audi', 'toyota', 'saburu']\n"
     ]
    }
   ],
   "source": [
    "#Soring a list\n",
    "cars = ['bmw','audi','toyota','saburu']\n",
    "print(\"Here is the Original list:\")\n",
    "print(cars)\n",
    "print(\"\\nHere is the sorted list:\")\n",
    "print(sorted(cars))\n",
    "print(\"\\nHere is the original list again:\")\n",
    "print(cars)"
   ]
  },
  {
   "cell_type": "code",
   "execution_count": 4,
   "id": "6336c5c4-01a6-4cf6-b963-aa177f8d09a4",
   "metadata": {},
   "outputs": [
    {
     "name": "stdout",
     "output_type": "stream",
     "text": [
      "['saburu', 'toyota', 'audi', 'bmw']\n"
     ]
    }
   ],
   "source": [
    "cars = ['bmw','audi','toyota','saburu']\n",
    "cars.reverse()\n",
    "print(cars)"
   ]
  },
  {
   "cell_type": "code",
   "execution_count": 5,
   "id": "5456e431-d669-42bc-9d67-42f3eea7caaa",
   "metadata": {},
   "outputs": [
    {
     "data": {
      "text/plain": [
       "4"
      ]
     },
     "execution_count": 5,
     "metadata": {},
     "output_type": "execute_result"
    }
   ],
   "source": [
    "cars = ['bmw','audi','toyota','saburu']\n",
    "len(cars)"
   ]
  },
  {
   "cell_type": "code",
   "execution_count": 4,
   "id": "0a914dfe-c253-4aff-9de0-eededcdb533a",
   "metadata": {},
   "outputs": [
    {
     "name": "stdout",
     "output_type": "stream",
     "text": [
      "alice\n",
      "david\n",
      "carolina\n"
     ]
    }
   ],
   "source": [
    "magicians = ['alice','david','carolina']\n",
    "for magician in magicians:\n",
    "    print(magician)"
   ]
  },
  {
   "cell_type": "code",
   "execution_count": 5,
   "id": "455c3d24-fb51-4b53-acef-888eead44d56",
   "metadata": {},
   "outputs": [
    {
     "name": "stdout",
     "output_type": "stream",
     "text": [
      "Alice, that was a great trick!\n",
      "David, that was a great trick!\n",
      "Carolina, that was a great trick!\n"
     ]
    }
   ],
   "source": [
    "magicians = ['alice','david','carolina']\n",
    "for magician in magicians:\n",
    "    print(magician.title()+ \", that was a great trick!\")"
   ]
  },
  {
   "cell_type": "code",
   "execution_count": 7,
   "id": "3e516345-8f9e-437a-a4fc-823129a316a8",
   "metadata": {},
   "outputs": [
    {
     "name": "stdout",
     "output_type": "stream",
     "text": [
      "David , that was a great trick!\n",
      "I can't wait to see your next trick, David.\n",
      "\n",
      "Alice , that was a great trick!\n",
      "I can't wait to see your next trick, Alice.\n",
      "\n",
      "Carolina , that was a great trick!\n",
      "I can't wait to see your next trick, Carolina.\n",
      "\n"
     ]
    }
   ],
   "source": [
    "magicians = ['david','alice','carolina']\n",
    "for magician in magicians:\n",
    "    print(magician.title()+\" , that was a great trick!\")\n",
    "    print(\"I can't wait to see your next trick, \"+magician.title()+\".\\n\")"
   ]
  },
  {
   "cell_type": "code",
   "execution_count": 8,
   "id": "df746027-afbe-4395-a0de-135862f6ad7a",
   "metadata": {},
   "outputs": [
    {
     "name": "stdout",
     "output_type": "stream",
     "text": [
      "David , that was a great trick!\n",
      "I can't wait to see your next trick, David.\n",
      "\n",
      "Alice , that was a great trick!\n",
      "I can't wait to see your next trick, Alice.\n",
      "\n",
      "Carolina , that was a great trick!\n",
      "I can't wait to see your next trick, Carolina.\n",
      "\n",
      "Thank you, everyone.That was a great magic show!\n"
     ]
    }
   ],
   "source": [
    "magicians = ['david','alice','carolina']\n",
    "for magician in magicians:\n",
    "    print(magician.title()+\" , that was a great trick!\")\n",
    "    print(\"I can't wait to see your next trick, \"+magician.title()+\".\\n\")\n",
    "\n",
    "print(\"Thank you, everyone.That was a great magic show!\")"
   ]
  },
  {
   "cell_type": "code",
   "execution_count": null,
   "id": "2cf6f38b-d53d-4821-9da5-53e5b1a0de10",
   "metadata": {},
   "outputs": [],
   "source": []
  }
 ],
 "metadata": {
  "kernelspec": {
   "display_name": "Python 3 (ipykernel)",
   "language": "python",
   "name": "python3"
  },
  "language_info": {
   "codemirror_mode": {
    "name": "ipython",
    "version": 3
   },
   "file_extension": ".py",
   "mimetype": "text/x-python",
   "name": "python",
   "nbconvert_exporter": "python",
   "pygments_lexer": "ipython3",
   "version": "3.11.7"
  }
 },
 "nbformat": 4,
 "nbformat_minor": 5
}
